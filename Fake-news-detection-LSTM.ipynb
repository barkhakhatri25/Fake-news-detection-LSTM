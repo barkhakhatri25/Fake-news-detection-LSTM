{
 "cells": [
  {
   "cell_type": "code",
   "execution_count": 1,
   "id": "d87cec98",
   "metadata": {},
   "outputs": [],
   "source": [
    "import pandas as pd"
   ]
  },
  {
   "cell_type": "markdown",
   "id": "c81caad8",
   "metadata": {},
   "source": [
    "### in data_set  label 1 = fake(unreliable)  , 0 = true(reliable)"
   ]
  },
  {
   "cell_type": "code",
   "execution_count": 2,
   "id": "84d9a18f",
   "metadata": {},
   "outputs": [
    {
     "data": {
      "text/html": [
       "<div>\n",
       "<style scoped>\n",
       "    .dataframe tbody tr th:only-of-type {\n",
       "        vertical-align: middle;\n",
       "    }\n",
       "\n",
       "    .dataframe tbody tr th {\n",
       "        vertical-align: top;\n",
       "    }\n",
       "\n",
       "    .dataframe thead th {\n",
       "        text-align: right;\n",
       "    }\n",
       "</style>\n",
       "<table border=\"1\" class=\"dataframe\">\n",
       "  <thead>\n",
       "    <tr style=\"text-align: right;\">\n",
       "      <th></th>\n",
       "      <th>id</th>\n",
       "      <th>title</th>\n",
       "      <th>author</th>\n",
       "      <th>text</th>\n",
       "      <th>label</th>\n",
       "    </tr>\n",
       "  </thead>\n",
       "  <tbody>\n",
       "    <tr>\n",
       "      <th>0</th>\n",
       "      <td>0</td>\n",
       "      <td>House Dem Aide: We Didn’t Even See Comey’s Let...</td>\n",
       "      <td>Darrell Lucus</td>\n",
       "      <td>House Dem Aide: We Didn’t Even See Comey’s Let...</td>\n",
       "      <td>1</td>\n",
       "    </tr>\n",
       "    <tr>\n",
       "      <th>1</th>\n",
       "      <td>1</td>\n",
       "      <td>FLYNN: Hillary Clinton, Big Woman on Campus - ...</td>\n",
       "      <td>Daniel J. Flynn</td>\n",
       "      <td>Ever get the feeling your life circles the rou...</td>\n",
       "      <td>0</td>\n",
       "    </tr>\n",
       "    <tr>\n",
       "      <th>2</th>\n",
       "      <td>2</td>\n",
       "      <td>Why the Truth Might Get You Fired</td>\n",
       "      <td>Consortiumnews.com</td>\n",
       "      <td>Why the Truth Might Get You Fired October 29, ...</td>\n",
       "      <td>1</td>\n",
       "    </tr>\n",
       "    <tr>\n",
       "      <th>3</th>\n",
       "      <td>3</td>\n",
       "      <td>15 Civilians Killed In Single US Airstrike Hav...</td>\n",
       "      <td>Jessica Purkiss</td>\n",
       "      <td>Videos 15 Civilians Killed In Single US Airstr...</td>\n",
       "      <td>1</td>\n",
       "    </tr>\n",
       "    <tr>\n",
       "      <th>4</th>\n",
       "      <td>4</td>\n",
       "      <td>Iranian woman jailed for fictional unpublished...</td>\n",
       "      <td>Howard Portnoy</td>\n",
       "      <td>Print \\nAn Iranian woman has been sentenced to...</td>\n",
       "      <td>1</td>\n",
       "    </tr>\n",
       "  </tbody>\n",
       "</table>\n",
       "</div>"
      ],
      "text/plain": [
       "   id                                              title              author  \\\n",
       "0   0  House Dem Aide: We Didn’t Even See Comey’s Let...       Darrell Lucus   \n",
       "1   1  FLYNN: Hillary Clinton, Big Woman on Campus - ...     Daniel J. Flynn   \n",
       "2   2                  Why the Truth Might Get You Fired  Consortiumnews.com   \n",
       "3   3  15 Civilians Killed In Single US Airstrike Hav...     Jessica Purkiss   \n",
       "4   4  Iranian woman jailed for fictional unpublished...      Howard Portnoy   \n",
       "\n",
       "                                                text  label  \n",
       "0  House Dem Aide: We Didn’t Even See Comey’s Let...      1  \n",
       "1  Ever get the feeling your life circles the rou...      0  \n",
       "2  Why the Truth Might Get You Fired October 29, ...      1  \n",
       "3  Videos 15 Civilians Killed In Single US Airstr...      1  \n",
       "4  Print \\nAn Iranian woman has been sentenced to...      1  "
      ]
     },
     "execution_count": 2,
     "metadata": {},
     "output_type": "execute_result"
    }
   ],
   "source": [
    "train_df = pd.read_csv(\"train.csv\")\n",
    "train_df.head()"
   ]
  },
  {
   "cell_type": "code",
   "execution_count": 3,
   "id": "aa675abe",
   "metadata": {},
   "outputs": [
    {
     "data": {
      "text/plain": [
       "(20800, 5)"
      ]
     },
     "execution_count": 3,
     "metadata": {},
     "output_type": "execute_result"
    }
   ],
   "source": [
    "train_df.shape\n"
   ]
  },
  {
   "cell_type": "code",
   "execution_count": 4,
   "id": "972e15af",
   "metadata": {},
   "outputs": [
    {
     "data": {
      "text/html": [
       "<div>\n",
       "<style scoped>\n",
       "    .dataframe tbody tr th:only-of-type {\n",
       "        vertical-align: middle;\n",
       "    }\n",
       "\n",
       "    .dataframe tbody tr th {\n",
       "        vertical-align: top;\n",
       "    }\n",
       "\n",
       "    .dataframe thead th {\n",
       "        text-align: right;\n",
       "    }\n",
       "</style>\n",
       "<table border=\"1\" class=\"dataframe\">\n",
       "  <thead>\n",
       "    <tr style=\"text-align: right;\">\n",
       "      <th></th>\n",
       "      <th>id</th>\n",
       "      <th>title</th>\n",
       "      <th>author</th>\n",
       "      <th>text</th>\n",
       "    </tr>\n",
       "  </thead>\n",
       "  <tbody>\n",
       "    <tr>\n",
       "      <th>0</th>\n",
       "      <td>20800</td>\n",
       "      <td>Specter of Trump Loosens Tongues, if Not Purse...</td>\n",
       "      <td>David Streitfeld</td>\n",
       "      <td>PALO ALTO, Calif.  —   After years of scorning...</td>\n",
       "    </tr>\n",
       "    <tr>\n",
       "      <th>1</th>\n",
       "      <td>20801</td>\n",
       "      <td>Russian warships ready to strike terrorists ne...</td>\n",
       "      <td>NaN</td>\n",
       "      <td>Russian warships ready to strike terrorists ne...</td>\n",
       "    </tr>\n",
       "    <tr>\n",
       "      <th>2</th>\n",
       "      <td>20802</td>\n",
       "      <td>#NoDAPL: Native American Leaders Vow to Stay A...</td>\n",
       "      <td>Common Dreams</td>\n",
       "      <td>Videos #NoDAPL: Native American Leaders Vow to...</td>\n",
       "    </tr>\n",
       "    <tr>\n",
       "      <th>3</th>\n",
       "      <td>20803</td>\n",
       "      <td>Tim Tebow Will Attempt Another Comeback, This ...</td>\n",
       "      <td>Daniel Victor</td>\n",
       "      <td>If at first you don’t succeed, try a different...</td>\n",
       "    </tr>\n",
       "    <tr>\n",
       "      <th>4</th>\n",
       "      <td>20804</td>\n",
       "      <td>Keiser Report: Meme Wars (E995)</td>\n",
       "      <td>Truth Broadcast Network</td>\n",
       "      <td>42 mins ago 1 Views 0 Comments 0 Likes 'For th...</td>\n",
       "    </tr>\n",
       "  </tbody>\n",
       "</table>\n",
       "</div>"
      ],
      "text/plain": [
       "      id                                              title  \\\n",
       "0  20800  Specter of Trump Loosens Tongues, if Not Purse...   \n",
       "1  20801  Russian warships ready to strike terrorists ne...   \n",
       "2  20802  #NoDAPL: Native American Leaders Vow to Stay A...   \n",
       "3  20803  Tim Tebow Will Attempt Another Comeback, This ...   \n",
       "4  20804                    Keiser Report: Meme Wars (E995)   \n",
       "\n",
       "                    author                                               text  \n",
       "0         David Streitfeld  PALO ALTO, Calif.  —   After years of scorning...  \n",
       "1                      NaN  Russian warships ready to strike terrorists ne...  \n",
       "2            Common Dreams  Videos #NoDAPL: Native American Leaders Vow to...  \n",
       "3            Daniel Victor  If at first you don’t succeed, try a different...  \n",
       "4  Truth Broadcast Network  42 mins ago 1 Views 0 Comments 0 Likes 'For th...  "
      ]
     },
     "execution_count": 4,
     "metadata": {},
     "output_type": "execute_result"
    }
   ],
   "source": [
    "test_df = pd.read_csv(\"test.csv\")\n",
    "test_df.head()"
   ]
  },
  {
   "cell_type": "code",
   "execution_count": 5,
   "id": "7e65c5aa",
   "metadata": {},
   "outputs": [
    {
     "data": {
      "text/plain": [
       "(5200, 4)"
      ]
     },
     "execution_count": 5,
     "metadata": {},
     "output_type": "execute_result"
    }
   ],
   "source": [
    "test_df.shape"
   ]
  },
  {
   "cell_type": "code",
   "execution_count": 6,
   "id": "19cbf1f0",
   "metadata": {},
   "outputs": [
    {
     "name": "stdout",
     "output_type": "stream",
     "text": [
      "<class 'pandas.core.frame.DataFrame'>\n",
      "RangeIndex: 20800 entries, 0 to 20799\n",
      "Data columns (total 5 columns):\n",
      " #   Column  Non-Null Count  Dtype \n",
      "---  ------  --------------  ----- \n",
      " 0   id      20800 non-null  int64 \n",
      " 1   title   20242 non-null  object\n",
      " 2   author  18843 non-null  object\n",
      " 3   text    20761 non-null  object\n",
      " 4   label   20800 non-null  int64 \n",
      "dtypes: int64(2), object(3)\n",
      "memory usage: 812.6+ KB\n"
     ]
    }
   ],
   "source": [
    "train_df.info()"
   ]
  },
  {
   "cell_type": "code",
   "execution_count": 7,
   "id": "0269ecb4",
   "metadata": {},
   "outputs": [
    {
     "data": {
      "text/plain": [
       "(18285, 5)"
      ]
     },
     "execution_count": 7,
     "metadata": {},
     "output_type": "execute_result"
    }
   ],
   "source": [
    "train_df = train_df.dropna()\n",
    "train_df.shape"
   ]
  },
  {
   "cell_type": "code",
   "execution_count": 8,
   "id": "aca4398e",
   "metadata": {},
   "outputs": [
    {
     "data": {
      "text/plain": [
       "((18285, 4), (18285,))"
      ]
     },
     "execution_count": 8,
     "metadata": {},
     "output_type": "execute_result"
    }
   ],
   "source": [
    "x = train_df.drop('label' , axis = 1)\n",
    "y = train_df['label']\n",
    "x.shape  ,  y.shape"
   ]
  },
  {
   "cell_type": "code",
   "execution_count": 9,
   "id": "4da259ad",
   "metadata": {
    "scrolled": true
   },
   "outputs": [],
   "source": [
    "import tensorflow as tf\n",
    "from tensorflow.keras.layers import Embedding\n",
    "from tensorflow.keras.preprocessing.sequence import pad_sequences\n",
    "from tensorflow.keras.models import Sequential\n",
    "from tensorflow.keras.preprocessing.text import one_hot\n",
    "from tensorflow.keras.layers import LSTM\n",
    "from tensorflow.keras.layers import Dense"
   ]
  },
  {
   "cell_type": "code",
   "execution_count": 10,
   "id": "4fbf20c2",
   "metadata": {},
   "outputs": [],
   "source": [
    "### Vocabulary size \n",
    "voc_size = 7000"
   ]
  },
  {
   "cell_type": "code",
   "execution_count": 130,
   "id": "6117daf1",
   "metadata": {},
   "outputs": [
    {
     "data": {
      "text/plain": [
       "'FLYNN: Hillary Clinton, Big Woman on Campus - Breitbart'"
      ]
     },
     "execution_count": 130,
     "metadata": {},
     "output_type": "execute_result"
    }
   ],
   "source": [
    "# Onehot Representation\n",
    "messages = x.copy()\n",
    "messages['title'][1]"
   ]
  },
  {
   "cell_type": "code",
   "execution_count": 12,
   "id": "7d62516f",
   "metadata": {},
   "outputs": [],
   "source": [
    "messages.reset_index(inplace = True)"
   ]
  },
  {
   "cell_type": "code",
   "execution_count": 13,
   "id": "27c096fc",
   "metadata": {},
   "outputs": [],
   "source": [
    "import nltk\n",
    "import re\n",
    "from nltk.corpus import stopwords\n",
    "from nltk.stem.porter import PorterStemmer"
   ]
  },
  {
   "cell_type": "code",
   "execution_count": 14,
   "id": "2fc6589c",
   "metadata": {},
   "outputs": [],
   "source": [
    "### Data cleaning \n",
    "\n",
    "ps = PorterStemmer()\n",
    "clean_Data = []\n",
    "for i in range(0, len(messages)):\n",
    "#     print(i)\n",
    "    review = re.sub('[^a-zA-Z]', ' ', messages['title'][i])\n",
    "    review = review.lower()\n",
    "    review = review.split()\n",
    "    \n",
    "    review = [ps.stem(word) for word in review if not word in stopwords.words('english')]\n",
    "    review = ' '.join(review)\n",
    "    clean_Data.append(review)\n"
   ]
  },
  {
   "cell_type": "code",
   "execution_count": 15,
   "id": "bd159bec",
   "metadata": {},
   "outputs": [
    {
     "data": {
      "text/plain": [
       "['flynn hillari clinton big woman campu breitbart',\n",
       " 'truth might get fire',\n",
       " 'civilian kill singl us airstrik identifi',\n",
       " 'iranian woman jail fiction unpublish stori woman stone death adulteri',\n",
       " 'jacki mason hollywood would love trump bomb north korea lack tran bathroom exclus video breitbart',\n",
       " 'beno hamon win french socialist parti presidenti nomin new york time',\n",
       " 'back channel plan ukrain russia courtesi trump associ new york time',\n",
       " 'obama organ action partner soro link indivis disrupt trump agenda',\n",
       " 'bbc comedi sketch real housew isi caus outrag']"
      ]
     },
     "execution_count": 15,
     "metadata": {},
     "output_type": "execute_result"
    }
   ],
   "source": [
    "clean_Data[1:10]"
   ]
  },
  {
   "cell_type": "code",
   "execution_count": 16,
   "id": "0bb960b3",
   "metadata": {},
   "outputs": [
    {
     "data": {
      "text/plain": [
       "[[115, 5647, 4192, 1186, 3, 2976, 6472],\n",
       " [6171, 2833, 2670, 6239],\n",
       " [2773, 6957, 3417, 3238, 2353, 3424],\n",
       " [94, 3, 3158, 5404, 2761, 1419, 3, 3758, 6052, 5963],\n",
       " [3417,\n",
       "  2566,\n",
       "  1689,\n",
       "  6143,\n",
       "  6845,\n",
       "  4524,\n",
       "  641,\n",
       "  3593,\n",
       "  1486,\n",
       "  2481,\n",
       "  286,\n",
       "  5288,\n",
       "  3660,\n",
       "  1564,\n",
       "  6472],\n",
       " [3535, 5759, 816, 121, 5687, 1829, 6079, 447, 1374, 1569, 1739],\n",
       " [6791, 286, 1006, 6228, 3445, 4693, 4524, 4347, 1374, 1569, 1739],\n",
       " [5907, 3803, 1517, 1620, 4775, 3445, 3616, 1672, 4524, 4313],\n",
       " [1666, 5268, 2473, 6190, 6408, 4405, 2577, 5837]]"
      ]
     },
     "execution_count": 16,
     "metadata": {},
     "output_type": "execute_result"
    }
   ],
   "source": [
    "# convert in one hot encoding \n",
    "\n",
    "onehot_rep = [one_hot(word,voc_size) for word in clean_Data]\n",
    "onehot_rep[1:10]"
   ]
  },
  {
   "cell_type": "code",
   "execution_count": 17,
   "id": "4791823c",
   "metadata": {
    "scrolled": true
   },
   "outputs": [
    {
     "name": "stdout",
     "output_type": "stream",
     "text": [
      "[[   0    0    0 ... 3900 1527 4403]\n",
      " [   0    0    0 ...    3 2976 6472]\n",
      " [   0    0    0 ... 2833 2670 6239]\n",
      " ...\n",
      " [   0    0    0 ... 1374 1569 1739]\n",
      " [   0    0    0 ...  674 4647 4723]\n",
      " [   0    0    0 ... 6690   76 5439]]\n"
     ]
    }
   ],
   "source": [
    "#  Embeding representations\n",
    "\n",
    "# pad_sequence \n",
    "sent_length = 22\n",
    "embedded_docs = pad_sequences(onehot_rep , padding = 'pre' , maxlen=sent_length )\n",
    "\n",
    "print(embedded_docs)"
   ]
  },
  {
   "cell_type": "markdown",
   "id": "c2d72153",
   "metadata": {},
   "source": [
    "### input_dim : Size of the vocabulary\n",
    "### output_dim : Length of the vector for each word\n",
    "### input_length : Maximum length of a sequence"
   ]
  },
  {
   "cell_type": "code",
   "execution_count": null,
   "id": "989ba617",
   "metadata": {},
   "outputs": [],
   "source": [
    "#  creating model\n",
    "embeding_vector_feature = 40 \n",
    "model = Sequential()\n",
    "model.add(Embedding(voc_size , embeding_vector_feature , input_length=sent_length))\n",
    "model.add(LSTM(100))    #m  100 is number of nerons\n",
    "model.add(Dense(1 , activation='sigmoid'))\n",
    "model.compile(loss='binary_crossentropy' , optimizer='adam' , metrics=['accuracy'])\n",
    "model.summary()"
   ]
  },
  {
   "cell_type": "code",
   "execution_count": 19,
   "id": "3fc12cff",
   "metadata": {},
   "outputs": [
    {
     "data": {
      "text/plain": [
       "(18285, (18285,))"
      ]
     },
     "execution_count": 19,
     "metadata": {},
     "output_type": "execute_result"
    }
   ],
   "source": [
    "len(embedded_docs),y.shape\n"
   ]
  },
  {
   "cell_type": "code",
   "execution_count": 20,
   "id": "c6f14f80",
   "metadata": {},
   "outputs": [],
   "source": [
    "import numpy as np\n",
    "X_final=np.array(embedded_docs)\n",
    "y_final=np.array(y)\n"
   ]
  },
  {
   "cell_type": "code",
   "execution_count": 21,
   "id": "e574d1c5",
   "metadata": {},
   "outputs": [
    {
     "data": {
      "text/plain": [
       "((18285, 22), (18285,))"
      ]
     },
     "execution_count": 21,
     "metadata": {},
     "output_type": "execute_result"
    }
   ],
   "source": [
    "X_final.shape,y_final.shape\n"
   ]
  },
  {
   "cell_type": "code",
   "execution_count": 22,
   "id": "f1a11a46",
   "metadata": {},
   "outputs": [],
   "source": [
    "from sklearn.model_selection import train_test_split\n",
    "X_train, X_test, y_train, y_test = train_test_split(X_final, y_final, test_size=0.33, random_state=42)\n"
   ]
  },
  {
   "cell_type": "code",
   "execution_count": 23,
   "id": "8847755b",
   "metadata": {},
   "outputs": [
    {
     "name": "stdout",
     "output_type": "stream",
     "text": [
      "Epoch 1/10\n",
      "192/192 [==============================] - 14s 44ms/step - loss: 0.3312 - accuracy: 0.8463 - val_loss: 0.1943 - val_accuracy: 0.9191\n",
      "Epoch 2/10\n",
      "192/192 [==============================] - 8s 40ms/step - loss: 0.1310 - accuracy: 0.9492 - val_loss: 0.1938 - val_accuracy: 0.9181\n",
      "Epoch 3/10\n",
      "192/192 [==============================] - 8s 40ms/step - loss: 0.0871 - accuracy: 0.9682 - val_loss: 0.2215 - val_accuracy: 0.9200\n",
      "Epoch 4/10\n",
      "192/192 [==============================] - 8s 40ms/step - loss: 0.0593 - accuracy: 0.9794 - val_loss: 0.2466 - val_accuracy: 0.9163\n",
      "Epoch 5/10\n",
      "192/192 [==============================] - 7s 39ms/step - loss: 0.0428 - accuracy: 0.9863 - val_loss: 0.3180 - val_accuracy: 0.9133\n",
      "Epoch 6/10\n",
      "192/192 [==============================] - 8s 40ms/step - loss: 0.0330 - accuracy: 0.9900 - val_loss: 0.2906 - val_accuracy: 0.9123\n",
      "Epoch 7/10\n",
      "192/192 [==============================] - 7s 38ms/step - loss: 0.0214 - accuracy: 0.9939 - val_loss: 0.4023 - val_accuracy: 0.9148\n",
      "Epoch 8/10\n",
      "192/192 [==============================] - 8s 40ms/step - loss: 0.0189 - accuracy: 0.9946 - val_loss: 0.3697 - val_accuracy: 0.9135\n",
      "Epoch 9/10\n",
      "192/192 [==============================] - 8s 40ms/step - loss: 0.0154 - accuracy: 0.9958 - val_loss: 0.4369 - val_accuracy: 0.9160\n",
      "Epoch 10/10\n",
      "192/192 [==============================] - 8s 41ms/step - loss: 0.0122 - accuracy: 0.9973 - val_loss: 0.3816 - val_accuracy: 0.9133\n"
     ]
    },
    {
     "data": {
      "text/plain": [
       "<keras.callbacks.History at 0x162f872ecd0>"
      ]
     },
     "execution_count": 23,
     "metadata": {},
     "output_type": "execute_result"
    }
   ],
   "source": [
    "model.fit(X_train , y_train , validation_data=(X_test , y_test) , epochs = 10 ,batch_size=64)"
   ]
  },
  {
   "cell_type": "code",
   "execution_count": 67,
   "id": "ff45e304",
   "metadata": {
    "scrolled": true
   },
   "outputs": [],
   "source": [
    "y_pred=model.predict(X_test)\n",
    "y_pred = y_pred.round()"
   ]
  },
  {
   "cell_type": "code",
   "execution_count": 68,
   "id": "a4267556",
   "metadata": {},
   "outputs": [
    {
     "data": {
      "text/plain": [
       "array([[3086,  333],\n",
       "       [ 190, 2426]], dtype=int64)"
      ]
     },
     "execution_count": 68,
     "metadata": {},
     "output_type": "execute_result"
    }
   ],
   "source": [
    "from sklearn.metrics import confusion_matrix\n",
    "confusion_matrix(y_test,y_pred)\n"
   ]
  },
  {
   "cell_type": "code",
   "execution_count": 69,
   "id": "7647b039",
   "metadata": {},
   "outputs": [
    {
     "data": {
      "text/plain": [
       "0.9133388566694284"
      ]
     },
     "execution_count": 69,
     "metadata": {},
     "output_type": "execute_result"
    }
   ],
   "source": [
    "from sklearn.metrics import accuracy_score\n",
    "accuracy_score(y_test,y_pred)\n"
   ]
  },
  {
   "cell_type": "markdown",
   "id": "52b47bb8",
   "metadata": {},
   "source": [
    "## Create function that Predict the sentance that is reliable or not "
   ]
  },
  {
   "cell_type": "code",
   "execution_count": 120,
   "id": "e9fdfa1a",
   "metadata": {},
   "outputs": [],
   "source": [
    "def predict_sentance(str1):\n",
    "#     clean the sentance\n",
    "    review = re.sub('[^a-zA-Z]', ' ', str1)\n",
    "    review = review.lower()\n",
    "    review = review.split()   \n",
    "    review = [ps.stem(word) for word in review if not word in stopwords.words('english')]\n",
    "    review = ' '.join(review)\n",
    "    # one_hot representation \n",
    "    t1 = [one_hot(review , voc_size)]\n",
    "    # # pad_sequences \n",
    "    t1_doc = pad_sequences(t1 , padding = 'pre' , maxlen = 22)\n",
    "    predict = model.predict(t1_doc).round()\n",
    "    print(predict)\n",
    "    if predict == 1.0 :\n",
    "        print(\"Unreliable \" , predict)\n",
    "    else:\n",
    "        print(\"Reliable \" , predict)"
   ]
  },
  {
   "cell_type": "code",
   "execution_count": 123,
   "id": "cdc78dfc",
   "metadata": {},
   "outputs": [
    {
     "name": "stdout",
     "output_type": "stream",
     "text": [
      "[[1.]]\n",
      "Unreliable  [[1.]]\n"
     ]
    }
   ],
   "source": [
    "t1 = 'Mosquito Army Released in Zika Fight in Brazil & Colombia'\n",
    "predict_sentance(t1)"
   ]
  },
  {
   "cell_type": "code",
   "execution_count": 129,
   "id": "276dd117",
   "metadata": {},
   "outputs": [
    {
     "name": "stdout",
     "output_type": "stream",
     "text": [
      "[[0.]]\n",
      "Reliable  [[0.]]\n"
     ]
    }
   ],
   "source": [
    "t2 = 'Specter of Trump Loosens Tongues, if Not Purse Strings, in Silicon Valley - The New York Times'\n",
    "predict_sentance(t2)"
   ]
  },
  {
   "cell_type": "code",
   "execution_count": null,
   "id": "692daf71",
   "metadata": {},
   "outputs": [],
   "source": []
  }
 ],
 "metadata": {
  "kernelspec": {
   "display_name": "Python 3 (ipykernel)",
   "language": "python",
   "name": "python3"
  },
  "language_info": {
   "codemirror_mode": {
    "name": "ipython",
    "version": 3
   },
   "file_extension": ".py",
   "mimetype": "text/x-python",
   "name": "python",
   "nbconvert_exporter": "python",
   "pygments_lexer": "ipython3",
   "version": "3.8.13"
  }
 },
 "nbformat": 4,
 "nbformat_minor": 5
}
